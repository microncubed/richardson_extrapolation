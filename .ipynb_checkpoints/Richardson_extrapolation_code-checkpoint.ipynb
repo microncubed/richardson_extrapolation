{
 "cells": [
  {
   "cell_type": "code",
   "execution_count": 1,
   "id": "c1358b59",
   "metadata": {},
   "outputs": [],
   "source": [
    "import numpy as np\n",
    "from scipy.sparse.linalg import spsolve\n",
    "from scipy.sparse import coo_matrix\n",
    "from sympy import *\n",
    "import matplotlib.pyplot as plt\n",
    "plt.rcParams['font.size']=16"
   ]
  },
  {
   "cell_type": "code",
   "execution_count": 7,
   "id": "e80ae490",
   "metadata": {},
   "outputs": [],
   "source": [
    "def source_term(nx,ny,Lx,Ly):\n",
    "    dx,dy = Lx/(nx-1),Ly/(ny-1)\n",
    "\n",
    "    Q_in = np.zeros((nx,ny))\n",
    "    u_a = np.zeros((nx,ny))\n",
    "\n",
    "    # Use sympy to find derivatives and to populate Q_in\n",
    "\n",
    "    x_s,y_s,pi_s,Lx_s,Ly_s = symbols('x_s y_s pi_s Lx_s Ly_s')\n",
    "\n",
    "    func = sin(pi_s*x_s/Lx_s)*sin(2*pi_s*y_s/Ly_s)\n",
    "    func_diff = -diff(func,x_s,x_s)-diff(func,y_s,y_s)\n",
    "    print(func_diff)\n",
    "\n",
    "    func = func.subs([(pi_s,np.pi),(Lx_s,Lx),(Ly_s,Ly)])\n",
    "    func_diff = func_diff.subs([(pi_s,np.pi),(Lx_s,Lx),(Ly_s,Ly)])\n",
    "\n",
    "    for j in range(ny):\n",
    "        for i in range(nx):\n",
    "            x = dx*i\n",
    "            y = dy*j\n",
    "            Q_in[i,j] = func_diff.subs([(x_s,x),(y_s,y)])\n",
    "            u_a[i,j] = func.subs([(x_s,x),(y_s,y)])\n",
    "            \n",
    "            \n",
    "    Q_in_flat = np.zeros(nx*ny)\n",
    "    for j in range(ny):\n",
    "        for i in range(nx):\n",
    "            Q_in_flat[nx*j+i] = Q_in[i,j]\n",
    "\n",
    "    return Q_in_flat,u_a\n",
    "\n",
    "def create_matrix(nx,ny,Lx,Ly):\n",
    "    \n",
    "    dx,dy = Lx/(nx-1),Ly/(ny-1)\n",
    "    \n",
    "    row = []\n",
    "    col = []\n",
    "    data = []\n",
    "\n",
    "    for j in range(ny):\n",
    "        for i in range(nx):\n",
    "            Adiag = j*nx+i\n",
    "            if j==0:\n",
    "                row.append(Adiag)\n",
    "                col.append(Adiag)\n",
    "                data.append(1)\n",
    "            elif j==ny-1:\n",
    "                row.append(Adiag)\n",
    "                col.append(Adiag)\n",
    "                data.append(1)\n",
    "            elif i==0:\n",
    "                row.append(Adiag)\n",
    "                col.append(Adiag)\n",
    "                data.append(1)    \n",
    "            elif i==nx-1:\n",
    "                row.append(Adiag)\n",
    "                col.append(Adiag)\n",
    "                data.append(1)\n",
    "            else:\n",
    "                a0=-2/dx**2-2/dy**2\n",
    "                a1=1/dx**2\n",
    "                a2=1/dx**2\n",
    "                a3=1/dy**2\n",
    "                a4=1/dy**2\n",
    "\n",
    "                row.append(Adiag)\n",
    "                col.append(Adiag)\n",
    "                data.append(a0)\n",
    "\n",
    "                row.append(Adiag)\n",
    "                col.append(Adiag-1)\n",
    "                data.append(a1)\n",
    "\n",
    "                row.append(Adiag)\n",
    "                col.append(Adiag+nx)\n",
    "                data.append(a3)\n",
    "\n",
    "                row.append(Adiag)\n",
    "                col.append(Adiag+1)\n",
    "                data.append(a2)\n",
    "\n",
    "                row.append(Adiag)\n",
    "                col.append(Adiag-nx)\n",
    "                data.append(a4)\n",
    "\n",
    "    As=coo_matrix((data, (row, col)), shape=(nx*ny, nx*ny))\n",
    "    #As = As.tolil()\n",
    "    As = As.tocsr()\n",
    "    return As\n",
    "\n",
    "def solve_pde(As,Q_in_flat):\n",
    "    n = spsolve(As,-Q_in_flat)\n",
    "\n",
    "    u = np.zeros((nx,ny))\n",
    "    for j in range(ny):\n",
    "        for i in range(nx):\n",
    "            u[i,j]= n[nx*j+i]\n",
    "    return u\n",
    "\n",
    "def L2_norm(u,u_a):\n",
    "    l2_diff = np.sqrt(np.sum((u-u_a)**2)/np.sum(u_a**2))\n",
    "    return l2_diff  "
   ]
  },
  {
   "cell_type": "code",
   "execution_count": 3,
   "id": "d1b79735",
   "metadata": {},
   "outputs": [
    {
     "name": "stdout",
     "output_type": "stream",
     "text": [
      "4*pi_s**2*sin(pi_s*x_s/Lx_s)*sin(2*pi_s*y_s/Ly_s)/Ly_s**2 + pi_s**2*sin(pi_s*x_s/Lx_s)*sin(2*pi_s*y_s/Ly_s)/Lx_s**2\n",
      "4*pi_s**2*sin(pi_s*x_s/Lx_s)*sin(2*pi_s*y_s/Ly_s)/Ly_s**2 + pi_s**2*sin(pi_s*x_s/Lx_s)*sin(2*pi_s*y_s/Ly_s)/Lx_s**2\n",
      "4*pi_s**2*sin(pi_s*x_s/Lx_s)*sin(2*pi_s*y_s/Ly_s)/Ly_s**2 + pi_s**2*sin(pi_s*x_s/Lx_s)*sin(2*pi_s*y_s/Ly_s)/Lx_s**2\n",
      "4*pi_s**2*sin(pi_s*x_s/Lx_s)*sin(2*pi_s*y_s/Ly_s)/Ly_s**2 + pi_s**2*sin(pi_s*x_s/Lx_s)*sin(2*pi_s*y_s/Ly_s)/Lx_s**2\n",
      "[0.03518786235534296, 0.008671946839082189, 0.002160270298415671, 0.0005395868042022338]\n"
     ]
    },
    {
     "data": {
      "image/png": "[encoded data removed]",
      "text/plain": [
       "<Figure size 360x288 with 1 Axes>"
      ]
     },
     "metadata": {
      "needs_background": "light"
     },
     "output_type": "display_data"
    }
   ],
   "source": [
    "nx_list = [10,19,37,73]\n",
    "L2_list = []\n",
    "dx_list = []\n",
    "u_list = []\n",
    "ua_list = []\n",
    "for nx in nx_list:\n",
    "    \n",
    "    ny = nx\n",
    "\n",
    "    Lx,Ly = 1,1\n",
    "    dx_list.append(Lx/(nx-1))\n",
    "    \n",
    "    Q_in_flat,u_a = source_term(nx,ny,Lx,Ly)\n",
    "    ua_list.append(u_a)\n",
    "    As = create_matrix(nx,ny,Lx,Ly)\n",
    "    u = solve_pde(As,Q_in_flat)\n",
    "    u_list.append(u)\n",
    "    L2_list.append(L2_norm(u,u_a))\n",
    "        \n",
    "fig,ax = plt.subplots(1,1,figsize=[5,4])\n",
    "ax.loglog(dx_list,L2_list,'.',markersize=16)\n",
    "ax.axis('equal')\n",
    "ax.set_ylabel('$L^2$ norm')\n",
    "ax.set_xlabel('$\\Delta$ x,$\\Delta$ y')\n",
    "fig.tight_layout()\n",
    "\n",
    "print(L2_list)\n",
    "fig.savefig('convergence.png',facecolor='white',dpi=150)"
   ]
  },
  {
   "cell_type": "code",
   "execution_count": 4,
   "id": "db729375",
   "metadata": {},
   "outputs": [],
   "source": [
    "u_R_norm = []\n",
    "u_R_list = []\n",
    "for i in range(3):\n",
    "    a = u_list[i][::1,::1]\n",
    "    b = u_list[i+1][::2,::2]\n",
    "    u_R = 4/3*b-a/3\n",
    "    u_R_list.append(u_R)\n",
    "    u_R_norm.append(L2_norm(u_R,ua_list[i]))\n",
    "    "
   ]
  },
  {
   "cell_type": "code",
   "execution_count": 5,
   "id": "6b868e32",
   "metadata": {},
   "outputs": [
    {
     "data": {
      "image/png": "[encoded data removed]",
      "text/plain": [
       "<Figure size 360x288 with 1 Axes>"
      ]
     },
     "metadata": {
      "needs_background": "light"
     },
     "output_type": "display_data"
    }
   ],
   "source": [
    "fig,ax = plt.subplots(1,1,figsize=[5,4])\n",
    "ax.loglog(dx_list,L2_list,'.',markersize=16,label ='Raw')\n",
    "ax.loglog(dx_list[1:],u_R_norm,'.',markersize=16, label = 'Rich.')\n",
    "ax.axis('equal')\n",
    "ax.set_ylabel('$L^2$ norm')\n",
    "ax.set_xlabel('$\\Delta$ x,$\\Delta$ y')\n",
    "fig.tight_layout()\n",
    "fig.legend(frameon=False,loc=[0.2,0.75])\n",
    "fig.savefig('extra.png',facecolor='white',dpi=150)"
   ]
  },
  {
   "cell_type": "code",
   "execution_count": 6,
   "id": "5f28d6e3",
   "metadata": {},
   "outputs": [
    {
     "data": {
      "image/png": "[encoded data removed]",
      "text/plain": [
       "<Figure size 720x360 with 2 Axes>"
      ]
     },
     "metadata": {
      "needs_background": "light"
     },
     "output_type": "display_data"
    }
   ],
   "source": [
    "x_vals = np.linspace(0,1,11)\n",
    "y_vals = np.linspace(0,1,11)\n",
    "fig,ax = plt.subplots(1,2,figsize=[10,5])\n",
    "ax[0].pcolor(x_vals,y_vals,u_list[0])\n",
    "ax[1].pcolor(x_vals,y_vals,ua_list[0])\n",
    "ax[0].set_ylabel('y')\n",
    "ax[0].set_xlabel('x')\n",
    "ax[1].set_xlabel('x')\n",
    "ax[0].set_title('Simulated')\n",
    "ax[1].set_title('Analytic')\n",
    "fig.tight_layout()\n",
    "fig.savefig('sim_ana.png',facecolor='white',dpi=150)"
   ]
  },
  {
   "cell_type": "markdown",
   "id": "a827dee9",
   "metadata": {},
   "source": [
    "# Richardson extrapolation\n",
    "I wanted to run through an example of how to increase simulation accuracy using the well-known technique of Richardson extrapolation. The main idea is that the difference between the exact solution $u_a$ to a PDE and an approximate numerical solution $u(h)$ can be written as a power series in h, the step size. \n",
    "\n",
    "\\begin{equation}\n",
    "u_{a} = u(h) + \\alpha h + \\beta h^2 + ...\n",
    "\\end{equation}\n",
    "\n",
    "If, for example, it is known that the leading error term goes like $h^2$ then $\\alpha = 0$. By taking two numerical solutions with different values of h, it is possible to write a pair of linear equations with two unknowns: $u_a$ and $\\beta$. Eliminating $\\beta$, we get $u_a$ - an improved approximation to the PDE. \n",
    "\n",
    "In this example I use a central difference approximation to the Poisson equation, with leading error term that goes like $h^2$.\n",
    "\n",
    "\\begin{equation}\n",
    "\\nabla^2 u(x,y) = -\\rho (x,y)\n",
    "\\end{equation}\n",
    "\n",
    "Using the method of manufactured solutions, I choose a solution $u_a$ and by differentation determine what the source term $\\rho(x,y)$ must have been. This source term is then used for the numerical solution. The simulation domain is taken as being a rectangle defined by the pair of points $(0,0)$ and $(L_x,L_y)$ \n",
    "\n",
    "\\begin{equation}\n",
    "u_a = \\sin(\\frac{\\pi x}{L_x})\\sin(\\frac{2 \\pi y}{L_y})\n",
    "\\end{equation}\n",
    "\n",
    "The finite difference equation is as follows:\n",
    "\n",
    "\\begin{equation}\n",
    "\\frac{u_{i+1,j}-2u_{i,j}+u_{i-1,j}}{\\Delta x^2}+\\frac{u_{i,j+1}-2u_{i,j}+u_{i,j-1}}{\\Delta y^2} = -\\rho_{i,j}\n",
    "\\end{equation}\n",
    "\n",
    "It is written as a sparse matrix equation and solved exactly using SciPy's spsolve method. In this way we find the numerical solution which can be compared to the analytic solution.\n",
    "\n",
    "<img src=\"sim_ana.png\" width=\"800\" height=\"400\">\n",
    "\n",
    "Of course it is not enough to perform a visual comparison so the $L^2$ norm is used to compare the two. \n",
    "\n",
    "\\begin{equation}\n",
    "L^2 = \\sqrt{\\frac{\\Sigma (u-u_a)^2}{\\Sigma u_a^2}}\n",
    "\\end{equation}\n",
    "\n",
    "By plotting the $L^2$ norm as a function of $\\Delta x = \\Delta y$ we can see the second order convergence, as expected, from this numerical approximation to the Poisson equation. \n",
    "\n",
    "<img src=\"convergence.png\" width=\"400\" height=\"400\">\n",
    "\n",
    "Finally, we are in a position to consider Richardson extrapolation. For a numerical approximation u(2h) and u(h) the extrapolated solution can we written as follows. Note that the discretisation parameter is chosen so that there are overlapping points between u(2h) and u(h). \n",
    "\n",
    "\\begin{equation}\n",
    "u_R = 4/3 u(h) - 1/3 u (2h)\n",
    "\\end{equation}\n",
    "\n",
    "So from a pair of numerical solutions we deduce a single extrapolated solution, u_R. These are plotted vs $h$ as the orange points in the following graph, the blue points being the raw solutions. A remarkable decrease in $L^2$ norm is seen, but not only is there a decreased $L^2$, there is also a gain of a order in accuracy. \n",
    "\n",
    "<img src=\"extra.png\" width=\"400\" height=\"400\">\n",
    "\n",
    "The benefit of Richardson's extrapolation is clear, it provides a clear advantage in accuracy in the case that there is a well known rate of convergence. \n",
    "\n",
    "## References\n"
   ]
  },
  {
   "cell_type": "code",
   "execution_count": null,
   "id": "f816d449",
   "metadata": {},
   "outputs": [],
   "source": []
  }
 ],
 "metadata": {
  "kernelspec": {
   "display_name": "Python 3 (ipykernel)",
   "language": "python",
   "name": "python3"
  },
  "language_info": {
   "codemirror_mode": {
    "name": "ipython",
    "version": 3
   },
   "file_extension": ".py",
   "mimetype": "text/x-python",
   "name": "python",
   "nbconvert_exporter": "python",
   "pygments_lexer": "ipython3",
   "version": "3.8.5"
  }
 },
 "nbformat": 4,
 "nbformat_minor": 5
}
