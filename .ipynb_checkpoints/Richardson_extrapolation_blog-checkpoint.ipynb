{
 "cells": [
  {
   "cell_type": "markdown",
   "id": "a827dee9",
   "metadata": {},
   "source": [
    "# Richardson extrapolation\n",
    "I wanted to run through an example of how to increase simulation accuracy using the well-known technique of Richardson extrapolation. The main idea is that the difference between the exact solution $u_a$ to a PDE and an approximate numerical solution $u(h)$ can be written as a power series in h, the step size. \n",
    "\n",
    "\\begin{equation}\n",
    "u_{a} = u(h) + \\alpha h + \\beta h^2 + ...\n",
    "\\end{equation}\n",
    "\n",
    "If, for example, it is known that the leading error term goes like $h^2$ then $\\alpha = 0$. By taking two numerical solutions with different values of h, it is possible to write a pair of linear equations with two unknowns: $u_a$ and $\\beta$. Eliminating $\\beta$, we get $u_a$ - an improved approximation to the PDE. \n",
    "\n",
    "In this example I use a central difference approximation to the Poisson equation, with leading error term that goes like $h^2$.\n",
    "\n",
    "\\begin{equation}\n",
    "\\nabla^2 u(x,y) = -\\rho (x,y)\n",
    "\\end{equation}\n",
    "\n",
    "Using the method of manufactured solutions, I choose a solution $u_a$ and by differentation determine what the source term $\\rho(x,y)$ must have been. This source term is then used for the numerical solution. The simulation domain is taken as being a rectangle defined by the pair of points $(0,0)$ and $(L_x,L_y)$ \n",
    "\n",
    "\\begin{equation}\n",
    "u_a = \\sin(\\frac{\\pi x}{L_x})\\sin(\\frac{2 \\pi y}{L_y})\n",
    "\\end{equation}\n",
    "\n",
    "The finite difference equation is as follows:\n",
    "\n",
    "\\begin{equation}\n",
    "\\frac{u_{i+1,j}-2u_{i,j}+u_{i-1,j}}{\\Delta x^2}+\\frac{u_{i,j+1}-2u_{i,j}+u_{i,j-1}}{\\Delta y^2} = -\\rho_{i,j}\n",
    "\\end{equation}\n",
    "\n",
    "It is written as a sparse matrix equation and solved exactly using SciPy's spsolve method. In this way we find the numerical solution which can be compared to the analytic solution.\n",
    "\n",
    "<img src=\"sim_ana.png\" width=\"800\" height=\"400\">\n",
    "\n",
    "Of course it is not enough to perform a visual comparison so the $L^2$ norm is used to compare the two. \n",
    "\n",
    "\\begin{equation}\n",
    "L^2 = \\sqrt{\\frac{\\Sigma (u-u_a)^2}{\\Sigma u_a^2}}\n",
    "\\end{equation}\n",
    "\n",
    "By plotting the $L^2$ norm as a function of $\\Delta x = \\Delta y$ we can see the second order convergence, as expected, from this numerical approximation to the Poisson equation. \n",
    "\n",
    "<img src=\"convergence.png\" width=\"400\" height=\"400\">\n",
    "\n",
    "Finally, we are in a position to consider Richardson extrapolation. For a numerical approximation u(2h) and u(h) the extrapolated solution can we written as follows. Note that the discretisation parameter is chosen so that there are overlapping points between u(2h) and u(h). \n",
    "\n",
    "\\begin{equation}\n",
    "u_R = 4/3 u(h) - 1/3 u (2h)\n",
    "\\end{equation}\n",
    "\n",
    "So from a pair of numerical solutions we deduce a single extrapolated solution, u_R. These are plotted vs $h$ as the orange points in the following graph, the blue points being the raw solutions. A remarkable decrease in $L^2$ norm is seen, but not only is there a decreased $L^2$, there is also a gain of a order in accuracy. \n",
    "\n",
    "<img src=\"extra.png\" width=\"400\" height=\"400\">\n",
    "\n",
    "The benefit of Richardson's extrapolation is clear, it provides a clear advantage in accuracy in the case that there is a well known rate of convergence. \n",
    "\n",
    "## References\n"
   ]
  }
 ],
 "metadata": {
  "kernelspec": {
   "display_name": "Python 3 (ipykernel)",
   "language": "python",
   "name": "python3"
  },
  "language_info": {
   "codemirror_mode": {
    "name": "ipython",
    "version": 3
   },
   "file_extension": ".py",
   "mimetype": "text/x-python",
   "name": "python",
   "nbconvert_exporter": "python",
   "pygments_lexer": "ipython3",
   "version": "3.8.5"
  }
 },
 "nbformat": 4,
 "nbformat_minor": 5
}
